{
 "cells": [
  {
   "cell_type": "markdown",
   "metadata": {},
   "source": [
    "# Kinematics"
   ]
  },
  {
   "cell_type": "markdown",
   "metadata": {},
   "source": [
    "## Forward kinematics"
   ]
  },
  {
   "cell_type": "code",
   "execution_count": 18,
   "metadata": {},
   "outputs": [
    {
     "name": "stdout",
     "output_type": "stream",
     "text": [
      "joint0_angle = 91.0 degrees\n",
      "joint1_angle = 104.7 degrees\n",
      "End Effector at x = -37.8 y = 14.6\n"
     ]
    },
    {
     "data": {
      "image/png": "[encoded data removed]",
      "text/plain": [
       "<matplotlib.figure.Figure at 0x7f499e4b19e8>"
      ]
     },
     "metadata": {},
     "output_type": "display_data"
    }
   ],
   "source": [
    "import matplotlib.pyplot as plt\n",
    "import numpy as np\n",
    "\n",
    "# Define a function to compute the arm configuration\n",
    "def compute_arm_config(link1_length, link2_length, joint0_angle, joint1_angle):\n",
    "    \n",
    "    def rotate(vector, angle_rad):\n",
    "        \"\"\"Rotate 2D `vector` by `angle_rad`\"\"\"\n",
    "        x = vector[0]\n",
    "        y = vector[1]\n",
    "        cos_a = np.cos(angle_rad)\n",
    "        sin_a = np.sin(angle_rad)\n",
    "        xp = x * cos_a - y * sin_a\n",
    "        yp = x * sin_a + y * sin_a\n",
    "        return xp, yp\n",
    "\n",
    "    \n",
    "    joint1_x, joint1_y = rotate([link1_length, 0], joint0_angle)\n",
    "    joint2_x, joint2_y = rotate([link2_length, 0], joint0_angle + joint1_angle)\n",
    "    p2_x, p2_y = joint1_x + joint2_x, joint1_y + joint2_y\n",
    "    return joint1_x, joint1_y, p2_x, p2_y\n",
    "\n",
    "if True:\n",
    "    link1_length = np.random.random() * 30 + 20\n",
    "    link2_length = np.random.random() * 30 + 20\n",
    "    joint0_angle = np.random.random() * 2 * np.pi\n",
    "    joint1_angle = np.random.random() * 2 * np.pi\n",
    "else:\n",
    "    link1_length = 40\n",
    "    link2_length = 20\n",
    "    joint0_angle = np.pi / 2\n",
    "    joint1_angle = -np.pi / 2\n",
    "    \n",
    "joint1_x, joint1_y, p2_x, p2_y = compute_arm_config(link1_length, link2_length, joint0_angle, joint1_angle)\n",
    "\n",
    "print(\"joint0_angle =\", round(joint0_angle * 180 / np.pi, 1), \"degrees\") \n",
    "print(\"joint1_angle =\", round(joint1_angle * 180 / np.pi, 1),\"degrees\") \n",
    "print(\"End Effector at x =\", round(p2_x, 1),\"y =\", round(p2_y, 1))\n",
    "base_x = 0\n",
    "base_y = 0\n",
    "# Plot the links\n",
    "plt.plot([base_x, joint1_x, p2_x], [base_y, joint1_y, p2_y])\n",
    "# Plot the base as a blue square\n",
    "plt.plot(base_x, base_y, 'bs', markersize=15, label='Base')\n",
    "# Plot Joint-1 as a red circle\n",
    "plt.plot(joint1_x, joint1_y, 'ro', markersize=15, label='Joint-1')\n",
    "# Plot End Effector as a green triangle\n",
    "plt.plot(p2_x, p2_y, 'g^', markersize=15, label='End Effector')\n",
    "plt.xlim(-100, 100)\n",
    "plt.ylim(-100, 100)\n",
    "plt.legend(fontsize=15)\n",
    "plt.show()"
   ]
  },
  {
   "cell_type": "markdown",
   "metadata": {},
   "source": [
    "## Rotation with Sympy"
   ]
  },
  {
   "cell_type": "code",
   "execution_count": 22,
   "metadata": {},
   "outputs": [
    {
     "name": "stdout",
     "output_type": "stream",
     "text": [
      "q1 q4\n",
      "Rotation about the X-axis by 45-degrees\n",
      "Matrix([[1.00000000000000, 0, 0], [0, 0.707106781186548, -0.707106781186547], [0, 0.707106781186547, 0.707106781186548]])\n",
      "Rotation about the y-axis by 45-degrees\n",
      "Matrix([[0.707106781186548, 0, 0.707106781186547], [0, 1.00000000000000, 0], [-0.707106781186547, 0, 0.707106781186548]])\n",
      "Rotation about the Z-axis by 30-degrees\n",
      "Matrix([[0.866025403784439, -0.500000000000000, 0], [0.500000000000000, 0.866025403784439, 0], [0, 0, 1.00000000000000]])\n"
     ]
    }
   ],
   "source": [
    "from sympy import symbols, cos, sin, pi, simplify\n",
    "from sympy.matrices import Matrix\n",
    "import numpy as np\n",
    "\n",
    "### Create symbols for joint variables which are commonly represented by \"q\"\n",
    "### Joint variable \"q\" is equal to \"ϴ\" or \"d\" depending if the joint is revolute or prismatic\n",
    "q1, q2, q3, q4 = symbols('q1:5') # remember slices do not include the end value \n",
    "\n",
    "# unrelated symbols can be defined like this:\n",
    "A, R, O, C = symbols('A R O C')\n",
    "\n",
    "# Conversion Factors\n",
    "rtd = 180./np.pi # radians to degrees\n",
    "dtr = np.pi/180. # degrees to radians\n",
    "\n",
    "R_x = Matrix([[ 1,              0,        0],\n",
    "              [ 0,        cos(q1), -sin(q1)],\n",
    "              [ 0,        sin(q1),  cos(q1)]])\n",
    "\n",
    "R_y = Matrix([[ cos(q2),        0,  sin(q2)],\n",
    "              [       0,        1,        0],\n",
    "              [-sin(q2),        0,  cos(q2)]])\n",
    "\n",
    "R_z = Matrix([[ cos(q3), -sin(q3),        0],\n",
    "              [ sin(q3),  cos(q3),        0],\n",
    "              [ 0,              0,        1]])\n",
    "\n",
    "\n",
    "print(\"Rotation about the X-axis by 45-degrees\")\n",
    "print(R_x.evalf(subs={q1: 45*dtr}))\n",
    "print(\"Rotation about the y-axis by 45-degrees\")\n",
    "print(R_y.evalf(subs={q2: 45*dtr}))\n",
    "print(\"Rotation about the Z-axis by 30-degrees\")\n",
    "print(R_z.evalf(subs={q3: 30*dtr}))"
   ]
  },
  {
   "cell_type": "code",
   "execution_count": 29,
   "metadata": {},
   "outputs": [
    {
     "name": "stdout",
     "output_type": "stream",
     "text": [
      "Matrix([[cos(q1)*cos(q2), -sin(q2)*cos(q1), sin(q1)], [sin(q2), cos(q2), 0], [-sin(q1)*cos(q2), sin(q1)*sin(q2), cos(q1)]])\n",
      "Matrix([[0.353553390593274, -0.612372435695794, 0.707106781186547], [0.866025403784439, 0.500000000000000, 0], [-0.353553390593274, 0.612372435695794, 0.707106781186548]])\n"
     ]
    }
   ],
   "source": [
    "# Intrinsic rotation sequence about the Y and then Z axes\n",
    "\n",
    "import numpy as np\n",
    "from sympy import symbols, cos, sin, pi, sqrt\n",
    "from sympy.matrices import Matrix\n",
    "\n",
    "\n",
    "### Create symbols for joint variables\n",
    "q1, q2 = symbols('q1:3')\n",
    "dtr = np.pi/180. # degrees to radians\n",
    "\n",
    "# Create a symbolic matrix representing an intrinsic sequence of rotations \n",
    "  # about the Y and then Z axes. Let the rotation about the Y axis be described\n",
    "  # by q1 and the rotation about Z by q2. \n",
    "####### TO DO ########\n",
    "# Replace R_y and R_z with the appropriate (symbolic) elementary rotation matrices \n",
    "  # and then compute YZ_intrinsic. \n",
    "R_y = Matrix([[ cos(q1),        0,  sin(q1)],\n",
    "              [       0,        1,        0],\n",
    "              [-sin(q1),        0,  cos(q1)]])\n",
    "\n",
    "R_z = Matrix([[ cos(q2), -sin(q2),        0],\n",
    "              [ sin(q2),  cos(q2),        0],\n",
    "              [ 0,              0,        1]])\n",
    "YZ_intrinsic_sym = R_y * R_z\n",
    "\n",
    "print(YZ_intrinsic_sym)\n",
    "\n",
    "####### TO DO ########\n",
    "# Numerically evaluate YZ_intrinsic assuming:\n",
    "   # q1 = 45 degrees and q2 = 60 degrees. \n",
    "   # NOTE: Trigonometric functions in Python assume the input is in radians!  \n",
    "\n",
    "YZ_intrinsic_num = YZ_intrinsic_sym.evalf(subs={q1: 45 * dtr, q2: 60 * dtr})\n",
    "print(YZ_intrinsic_num)\n"
   ]
  },
  {
   "cell_type": "code",
   "execution_count": 30,
   "metadata": {},
   "outputs": [],
   "source": [
    "# Extrinsic rotation about the Z and then Y axes.\n",
    "## Note that code is the same as above(because order of rotation is different)\n",
    "\n",
    "from sympy import symbols, cos, sin, pi, sqrt\n",
    "from sympy.matrices import Matrix\n",
    "import numpy as np\n",
    "\n",
    "dtr = np.pi/180. # degrees to radians\n",
    "\n",
    "### Create symbols for joint variables\n",
    "q1, q2 = symbols('q1:3')\n",
    "\n",
    "# Create a symbolic matrix representing an extrinsic sequence of rotations \n",
    "  # about the Z and then Y axes. Let the rotation about the Y axis be described\n",
    "  # by q1 and the rotation about Z by q2. \n",
    "####### TO DO ########\n",
    "# Replace R_y and R_z with the appropriate (symbolic) elementary rotation matrices \n",
    "  # and then compute ZY_extrinsic. \n",
    "R_y = Matrix([[ cos(q1),        0,  sin(q1)],\n",
    "              [       0,        1,        0],\n",
    "              [-sin(q1),        0,  cos(q1)]])\n",
    "\n",
    "R_z = Matrix([[ cos(q2), -sin(q2),        0],\n",
    "              [ sin(q2),  cos(q2),        0],\n",
    "              [ 0,              0,        1]])\n",
    "ZY_extrinsic_sym = R_y * R_z\n",
    "ZY_extrinsic_num = ZY_extrinsic_sym.evalf(subs={q1: 45 * dtr, q2: 60 * dtr})\n"
   ]
  },
  {
   "cell_type": "code",
   "execution_count": 36,
   "metadata": {},
   "outputs": [
    {
     "name": "stdout",
     "output_type": "stream",
     "text": [
      "60.0000000000000\n",
      "30.0000000000000\n",
      "45.0000000000000\n"
     ]
    }
   ],
   "source": [
    "import numpy as np\n",
    "from sympy.matrices import Matrix\n",
    "from sympy import symbols, atan2, sqrt\n",
    "\n",
    "\n",
    "# Fixed Axis X-Y-Z Rotation Matrix\n",
    "rtd = 180./np.pi # radians to degrees\n",
    "\n",
    "R_XYZ = Matrix([[ 0.353553390593274, -0.306186217847897, 0.883883476483184],\n",
    "            [ 0.353553390593274,  0.918558653543692, 0.176776695296637],\n",
    "            [-0.866025403784439,               0.25, 0.433012701892219]])\n",
    "\n",
    "######## TO DO ##########\n",
    "# Calculate the Euler angles that produces a rotation equivalent to R (above)\n",
    "# NOTE: Be sure your answer has units of DEGREES!\n",
    "beta = rtd * atan2( -R_XYZ[2,0], sqrt(R_XYZ[0,0] * R_XYZ[0,0] + R_XYZ[1,0] * R_XYZ[1,0]))\n",
    "gamma  = rtd * atan2(R_XYZ[2,1], R_XYZ[2,2])\n",
    "alpha = rtd * atan2(R_XYZ[1,0], R_XYZ[0,0])\n",
    "\n",
    "\n",
    "print(alpha)\n",
    "print(beta)\n",
    "print(gamma)\n"
   ]
  },
  {
   "cell_type": "code",
   "execution_count": 46,
   "metadata": {},
   "outputs": [
    {
     "name": "stdout",
     "output_type": "stream",
     "text": [
      "Matrix([[-0.342020143325669, 0, 0.939692620785908, 1.00000000000000], [0, 1.00000000000000, 0, 0], [-0.939692620785908, 0, -0.342020143325669, 30.0000000000000], [0, 0, 0, 1.00000000000000]])\n",
      "(4, 1)\n",
      "Matrix([[35.3367879231231], [0], [1.53976466853329], [1.00000000000000]])\n"
     ]
    }
   ],
   "source": [
    "# Homogeneous Transforms and their Inverse\n",
    "\n",
    "from sympy import symbols, cos, sin, pi, simplify, sqrt, atan2\n",
    "from sympy.matrices import Matrix\n",
    "import numpy as np\n",
    "\n",
    "dtr = np.pi/180. # degrees to radians\n",
    "\n",
    "###############################################################\n",
    "# Problem Statement:\n",
    "  # Let P be a vector expressed in frame {B} with (x,y,z)\n",
    "  # coordinates = (15.0, 0.0, 42.0)\n",
    "  # Rotate P about the Y-axis by angle = 110 degrees. \n",
    "  # Then translate the vector 1 unit\n",
    "  # in the X-axis and 30 units in the Z-axis. \n",
    "  # Print the new (x, y, z) coordinates of P after the transformation.  \n",
    "###############################################################\n",
    "#### Create symbols for joint variables\n",
    "q1 = symbols('q1')\n",
    "gamma  = symbols('gamma')\n",
    "\n",
    "R_y = Matrix([[ cos(q1),        0,  sin(q1),  1],\n",
    "              [       0,        1,        0,  0],\n",
    "              [-sin(q1),        0,  cos(q1), 30],\n",
    "              [       0,        0,        0,  1]\n",
    "             ])\n",
    "\n",
    "T = R_y.evalf(subs={q1: 110 * dtr})\n",
    "\n",
    "#### TO DO ####\n",
    "# Replace P and T with appropriate expressions and calculate new coordinates of P in {A}. \n",
    "P = Matrix([ [15], [0], [42], [1] ])\n",
    "print(P.shape)\n",
    "P_new = T * P\n",
    "\n",
    "print(P_new)\n"
   ]
  },
  {
   "cell_type": "code",
   "execution_count": null,
   "metadata": {},
   "outputs": [],
   "source": [
    "# Composition of Homogeneous Transforms\n",
    "\n",
    "\n",
    "\n",
    "from sympy import symbols, cos, sin, pi, sqrt, simplify\n",
    "from sympy.matrices import Matrix\n",
    "\n",
    "### Create symbols for joint variables\n",
    "# The numbers 1 to 4 correspond to each rotation in the order specified to you.\n",
    "q1, q2, q3, q4 = symbols('q1:5')\n",
    "\n",
    "### Define functions for Rotation Matrices about x, y, and z given specific angle.\n",
    "\n",
    "def rot_x(q):\n",
    "    R_x = 0\n",
    "    \n",
    "    return R_x\n",
    "    \n",
    "def rot_y(q):              \n",
    "    R_y = 0\n",
    "    \n",
    "    return R_y\n",
    "\n",
    "def rot_z(q):    \n",
    "    R_z = 0\n",
    "    \n",
    "    return R_z\n",
    "              \n",
    "### Define rotations between frames\n",
    "\n",
    "# Initial Rotation Matrix for Frame A\n",
    "Ra = Matrix([[1, 0, 0],\n",
    "             [0, 1, 0],\n",
    "             [0, 0, 1]])\n",
    "\n",
    "# Rotations performed on individual Frames for A->B->E\n",
    "Rb_a = 0\n",
    "Re_b = 0\n",
    "\n",
    "# Rotations performed on individual Frames for A->C->D->E\n",
    "Rc_a = 0\n",
    "Rd_c = 0\n",
    "Re_d = 0\n",
    "\n",
    "### Define Translations between frames.\n",
    "\n",
    "tb_a = 0\n",
    "te_b = 0\n",
    "tc_a = 0\n",
    "td_c = 0\n",
    "te_d = 0\n",
    "\n",
    "### Define homogenous transformation matrices\n",
    "# HINT: Check out sympy's documentation for functions row_join and col_join\n",
    "Ta = 0\n",
    "\n",
    "Tb_a = 0\n",
    "\n",
    "Te_b = 0\n",
    "\n",
    "Tc_a = 0\n",
    "\n",
    "Td_c = 0\n",
    "\n",
    "Te_d = 0         \n",
    "\n",
    "### Composition of Transformations\n",
    "Te_a_1 = simplify(Ta * Tb_a * Te_b)\n",
    "\n",
    "Te_a_2 = simplify(Ta * Tc_a * Td_c * Te_d)\n",
    "\n",
    "### Calculate orientation and position for E\n",
    "E_1 = Te_a_1.evalf(subs={q1: 0, q2: 0}, chop = True)\n",
    "\n",
    "E_2 = Te_a_2.evalf(subs={q3: 0, q4: 0}, chop = True)\n",
    "\n",
    "print(\"Transformation Matrix for A->B->E:\")\n",
    "print(E_1)\n",
    "\n",
    "print(\"Transformation Matrix for A->C->D->E:\")\n",
    "print(E_2)\n",
    "\n",
    "\n"
   ]
  }
 ],
 "metadata": {
  "kernelspec": {
   "display_name": "Python [conda env:RoboND]",
   "language": "python",
   "name": "conda-env-RoboND-py"
  },
  "language_info": {
   "codemirror_mode": {
    "name": "ipython",
    "version": 3
   },
   "file_extension": ".py",
   "mimetype": "text/x-python",
   "name": "python",
   "nbconvert_exporter": "python",
   "pygments_lexer": "ipython3",
   "version": "3.5.2"
  },
  "widgets": {
   "state": {},
   "version": "1.1.2"
  }
 },
 "nbformat": 4,
 "nbformat_minor": 2
}
